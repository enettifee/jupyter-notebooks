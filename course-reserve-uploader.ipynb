{
 "cells": [
  {
   "cell_type": "code",
   "execution_count": 1,
   "id": "7db8d53f-8c6a-4ee8-8b11-c632add871c1",
   "metadata": {},
   "outputs": [],
   "source": [
    "import requests\n",
    "import json\n",
    "import csv\n",
    "import configparser"
   ]
  },
  {
   "cell_type": "markdown",
   "id": "43019d25-052c-41ff-8c14-ce68124d5422",
   "metadata": {},
   "source": [
    "## Define a function to ask for the environment and match to config-template values."
   ]
  },
  {
   "cell_type": "code",
   "execution_count": 2,
   "id": "2635b745-4f5a-4fab-ab7d-bb6cfba0b27a",
   "metadata": {},
   "outputs": [],
   "source": [
    "def singleenvironment(configNames):\n",
    "    environmentname = input(\"Which environment are we uploading reserves to? \")\n",
    "    if environmentname in configNames:\n",
    "        return environmentname\n",
    "    else:\n",
    "        sys.exit(\"can't recognize environment name!\")"
   ]
  },
  {
   "cell_type": "markdown",
   "id": "2b133978-8f4d-42e3-9df6-3c688c3acea8",
   "metadata": {},
   "source": [
    "## Read in the environments you might be using from the config-template.ini file"
   ]
  },
  {
   "cell_type": "code",
   "execution_count": 3,
   "id": "6be89bc1-bce0-4023-81d1-a17771076266",
   "metadata": {},
   "outputs": [
    {
     "name": "stdout",
     "output_type": "stream",
     "text": [
      "['snapshot']\n"
     ]
    }
   ],
   "source": [
    "envConfig = configparser.ConfigParser()\n",
    "envConfig.read('config-template.ini')\n",
    "print(envConfig.sections())"
   ]
  },
  {
   "cell_type": "code",
   "execution_count": 4,
   "id": "6da637ab-2e9c-4068-8640-f73f7974b3e9",
   "metadata": {},
   "outputs": [
    {
     "name": "stdin",
     "output_type": "stream",
     "text": [
      "Which environment are we uploading reserves to?  snapshot\n"
     ]
    }
   ],
   "source": [
    "uploadenvironment = singleenvironment(envConfig.sections())"
   ]
  },
  {
   "cell_type": "markdown",
   "id": "13aea00b-0b27-4c26-9b1e-77eb26332438",
   "metadata": {},
   "source": [
    "## Define the header values to be used in making your API request to FOLIO."
   ]
  },
  {
   "cell_type": "code",
   "execution_count": 5,
   "id": "ca7b62a5-5817-4bf1-a08c-1f8289923876",
   "metadata": {},
   "outputs": [],
   "source": [
    "uploadurl = envConfig[uploadenvironment]['okapi_url']\n",
    "\n",
    "fetchHeaders = {\n",
    "    'x-okapi-tenant': envConfig[uploadenvironment]['tenant_id'],\n",
    "    'x-okapi-token': envConfig[uploadenvironment]['password']\n",
    "}\n",
    "postHeaders = {\n",
    "    'x-okapi-tenant': envConfig[uploadenvironment]['tenant_id'],\n",
    "    'x-okapi-token': envConfig[uploadenvironment]['password'],\n",
    "    'Content-Type': 'application/json'\n",
    "}"
   ]
  },
  {
   "cell_type": "markdown",
   "id": "c60a8d28-c708-4991-a616-e6e408366533",
   "metadata": {
    "tags": []
   },
   "source": [
    "## Create a reserve\n",
    "\n",
    "The FOLIO API to create a reserve is\n",
    "\n",
    "POST /coursereserves/reserves\n",
    "\n",
    "with the required fields of the course listing ID and the barcode. \n",
    "\n",
    "The goal is to take an input file with a list of barcodes, one on each line, and construct a JSON object for each barcode like this:\n",
    "\n",
    "{\n",
    "    \"courseListingId\": *\"yourcourselistingid\"*,\n",
    "    \"copiedItem\": {\n",
    "        \"barcode\": *\"itembarcode\"*\n",
    "        }\n",
    "}\n",
    "\n",
    "and then call a POST /coursereserves/reserves with the JSON for each item until the list is finished.\n"
   ]
  },
  {
   "cell_type": "markdown",
   "id": "59c208fd-30f1-4da8-accb-ba59d90419d7",
   "metadata": {},
   "source": [
    "**Step 1**: Create the URL for the reserve API call."
   ]
  },
  {
   "cell_type": "code",
   "execution_count": 6,
   "id": "96fbd85c-6d05-49b8-b8cf-39ea6eaf4638",
   "metadata": {},
   "outputs": [],
   "source": [
    "uploadReserveUrl = '{}{}'.format(uploadurl, \"/coursereserves/reserves\")"
   ]
  },
  {
   "cell_type": "markdown",
   "id": "d5b7ed4d-9fc4-40ae-b9a8-ed2f41d099c3",
   "metadata": {},
   "source": [
    "**Step 2**: Ask for the course listing ID."
   ]
  },
  {
   "cell_type": "code",
   "execution_count": 7,
   "id": "11544ed7-5575-4122-925a-4d8e8ae8a560",
   "metadata": {},
   "outputs": [
    {
     "name": "stdin",
     "output_type": "stream",
     "text": [
      "Please provide the UUID for the course listing we are adding items to  cef52efb-b3fd-4450-9960-1745026a99d1\n"
     ]
    }
   ],
   "source": [
    "courseListingIdForLoad = input(\"Please provide the UUID for the course listing we are adding items to \")"
   ]
  },
  {
   "cell_type": "markdown",
   "id": "524f3f0a-0c84-47c7-8ecf-efe2f9388d6a",
   "metadata": {},
   "source": [
    "**Step 3**: Open your file of incoming barcodes."
   ]
  },
  {
   "cell_type": "code",
   "execution_count": 8,
   "id": "6654e00c-902d-41f3-bdf0-2b08bd144b59",
   "metadata": {},
   "outputs": [],
   "source": [
    "initialFile = open('barcodes.csv', newline='', encoding='utf-8-sig')\n",
    "barcode_file = csv.reader(initialFile, dialect='excel')"
   ]
  },
  {
   "cell_type": "markdown",
   "id": "67b0e8fb-c517-4490-a235-9094fdeac93a",
   "metadata": {},
   "source": [
    "**Step 4**: Construct and send the data payload to FOLIO for each reserve item."
   ]
  },
  {
   "cell_type": "code",
   "execution_count": 9,
   "id": "f375707e-0c20-4f1b-b286-5a683fdf7dd0",
   "metadata": {},
   "outputs": [
    {
     "name": "stdout",
     "output_type": "stream",
     "text": [
      "{\n",
      "  \"id\" : \"798296d4-91a1-4073-ac9c-89e10d8ed58d\",\n",
      "  \"courseListingId\" : \"cef52efb-b3fd-4450-9960-1745026a99d1\",\n",
      "  \"itemId\" : \"d6f7c1ba-a237-465e-94ed-f37e91bc64bd\",\n",
      "  \"copiedItem\" : {\n",
      "    \"barcode\" : \"4539876054383\",\n",
      "    \"temporaryLocationId\" : \"53cf956f-c1df-410b-8bea-27f712cca7c0\",\n",
      "    \"permanentLocationId\" : \"53cf956f-c1df-410b-8bea-27f712cca7c0\",\n",
      "    \"title\" : \"Bridget Jones's Baby: the diaries\",\n",
      "    \"contributors\" : [ {\n",
      "      \"name\" : \"Fielding, Helen\",\n",
      "      \"contributorNameTypeId\" : \"2b94c631-fca9-4892-a730-03ee529ffe2a\"\n",
      "    } ],\n",
      "    \"publication\" : [ {\n",
      "      \"publisher\" : \"Alfred A. Knopf\",\n",
      "      \"place\" : \"New York\",\n",
      "      \"dateOfPublication\" : \"2016\"\n",
      "    } ],\n",
      "    \"callNumber\" : \"PR6056.I4588 B749 2016\",\n",
      "    \"copy\" : \"Copy 3\",\n",
      "    \"instanceId\" : \"7fbd5d84-62d1-44c6-9c45-6cb173998bbd\",\n",
      "    \"instanceHrid\" : \"inst000000000006\",\n",
      "    \"instanceDiscoverySuppress\" : true,\n",
      "    \"holdingsId\" : \"fb7b70f1-b898-4924-a991-0e4b6312bb5f\"\n",
      "  },\n",
      "  \"temporaryLoanTypeId\" : \"e8b311a6-3b21-43f2-a269-dd9310cb2d0e\",\n",
      "  \"metadata\" : {\n",
      "    \"createdDate\" : \"2023-02-10T20:39:08.027+00:00\",\n",
      "    \"createdByUserId\" : \"2b164328-2d5f-5208-baeb-bfa63bce55c4\",\n",
      "    \"updatedDate\" : \"2023-02-10T20:39:08.027+00:00\",\n",
      "    \"updatedByUserId\" : \"2b164328-2d5f-5208-baeb-bfa63bce55c4\"\n",
      "  }\n",
      "}\n",
      "{\n",
      "  \"id\" : \"166f9fe5-8266-4110-bbb4-3f90aba0e9da\",\n",
      "  \"courseListingId\" : \"cef52efb-b3fd-4450-9960-1745026a99d1\",\n",
      "  \"itemId\" : \"4428a37c-8bae-4f0d-865d-970d83d5ad55\",\n",
      "  \"copiedItem\" : {\n",
      "    \"barcode\" : \"4539876054382\",\n",
      "    \"temporaryLocationId\" : \"53cf956f-c1df-410b-8bea-27f712cca7c0\",\n",
      "    \"permanentLocationId\" : \"fcd64ce1-6995-48f0-840e-89ffa2288371\",\n",
      "    \"title\" : \"Bridget Jones's Baby: the diaries\",\n",
      "    \"contributors\" : [ {\n",
      "      \"name\" : \"Fielding, Helen\",\n",
      "      \"contributorNameTypeId\" : \"2b94c631-fca9-4892-a730-03ee529ffe2a\"\n",
      "    } ],\n",
      "    \"publication\" : [ {\n",
      "      \"publisher\" : \"Alfred A. Knopf\",\n",
      "      \"place\" : \"New York\",\n",
      "      \"dateOfPublication\" : \"2016\"\n",
      "    } ],\n",
      "    \"callNumber\" : \"PR6056.I4588 B749 2016\",\n",
      "    \"copy\" : \"Copy 2\",\n",
      "    \"instanceId\" : \"7fbd5d84-62d1-44c6-9c45-6cb173998bbd\",\n",
      "    \"instanceHrid\" : \"inst000000000006\",\n",
      "    \"instanceDiscoverySuppress\" : true,\n",
      "    \"holdingsId\" : \"65cb2bf0-d4c2-4886-8ad0-b76f1ba75d61\"\n",
      "  },\n",
      "  \"temporaryLoanTypeId\" : \"e8b311a6-3b21-43f2-a269-dd9310cb2d0e\",\n",
      "  \"metadata\" : {\n",
      "    \"createdDate\" : \"2023-02-10T20:39:08.262+00:00\",\n",
      "    \"createdByUserId\" : \"2b164328-2d5f-5208-baeb-bfa63bce55c4\",\n",
      "    \"updatedDate\" : \"2023-02-10T20:39:08.262+00:00\",\n",
      "    \"updatedByUserId\" : \"2b164328-2d5f-5208-baeb-bfa63bce55c4\"\n",
      "  }\n",
      "}\n",
      "{\n",
      "  \"id\" : \"bb940fa0-e6d6-4755-ae76-103841fa1bb0\",\n",
      "  \"courseListingId\" : \"cef52efb-b3fd-4450-9960-1745026a99d1\",\n",
      "  \"itemId\" : \"1714f71f-b845-444b-a79e-a577487a6f7d\",\n",
      "  \"copiedItem\" : {\n",
      "    \"barcode\" : \"000111222333444\",\n",
      "    \"temporaryLocationId\" : \"53cf956f-c1df-410b-8bea-27f712cca7c0\",\n",
      "    \"permanentLocationId\" : \"fcd64ce1-6995-48f0-840e-89ffa2288371\",\n",
      "    \"title\" : \"The American Journal of Medicine\",\n",
      "    \"contributors\" : [ ],\n",
      "    \"publication\" : [ {\n",
      "      \"publisher\" : \"Dun-Donnelley Pub. Co. \",\n",
      "      \"place\" : \"New York\",\n",
      "      \"dateOfPublication\" : \"1946-\"\n",
      "    } ],\n",
      "    \"callNumber\" : \"R11.A38\",\n",
      "    \"copy\" : \"c.1\",\n",
      "    \"enumeration\" : \"v. 30 1961\",\n",
      "    \"instanceId\" : \"30fcc8e7-a019-43f4-b642-2edc389f4501\",\n",
      "    \"instanceHrid\" : \"inst000000000003\",\n",
      "    \"instanceDiscoverySuppress\" : false,\n",
      "    \"holdingsId\" : \"133a7916-f05e-4df4-8f7f-09eb2a7076d1\"\n",
      "  },\n",
      "  \"temporaryLoanTypeId\" : \"2b94c631-fca9-4892-a730-03ee529ffe27\",\n",
      "  \"metadata\" : {\n",
      "    \"createdDate\" : \"2023-02-10T20:39:08.348+00:00\",\n",
      "    \"createdByUserId\" : \"2b164328-2d5f-5208-baeb-bfa63bce55c4\",\n",
      "    \"updatedDate\" : \"2023-02-10T20:39:08.348+00:00\",\n",
      "    \"updatedByUserId\" : \"2b164328-2d5f-5208-baeb-bfa63bce55c4\"\n",
      "  }\n",
      "}\n"
     ]
    }
   ],
   "source": [
    "for each in barcode_file:\n",
    "    payload = {}\n",
    "    copiedItem = {}\n",
    "    payload['courseListingId'] = courseListingIdForLoad\n",
    "    copiedItem['barcode'] = each[0]\n",
    "    payload['copiedItem'] = copiedItem\n",
    "    requestPayload = json.dumps(payload)\n",
    "    sendReserve = requests.post(uploadReserveUrl, headers=postHeaders, data=requestPayload)\n",
    "    print(sendReserve.text)"
   ]
  },
  {
   "cell_type": "code",
   "execution_count": null,
   "id": "d90df270-0ef9-4a42-83d8-176fcf21b196",
   "metadata": {},
   "outputs": [],
   "source": []
  }
 ],
 "metadata": {
  "kernelspec": {
   "display_name": "Python 3 (ipykernel)",
   "language": "python",
   "name": "python3"
  },
  "language_info": {
   "codemirror_mode": {
    "name": "ipython",
    "version": 3
   },
   "file_extension": ".py",
   "mimetype": "text/x-python",
   "name": "python",
   "nbconvert_exporter": "python",
   "pygments_lexer": "ipython3",
   "version": "3.9.7"
  }
 },
 "nbformat": 4,
 "nbformat_minor": 5
}
