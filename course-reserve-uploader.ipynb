{
 "cells": [
  {
   "cell_type": "code",
   "execution_count": null,
   "id": "7db8d53f-8c6a-4ee8-8b11-c632add871c1",
   "metadata": {},
   "outputs": [],
   "source": [
    "import requests\n",
    "import json\n",
    "import csv\n",
    "import configparser"
   ]
  },
  {
   "cell_type": "markdown",
   "id": "43019d25-052c-41ff-8c14-ce68124d5422",
   "metadata": {},
   "source": [
    "### Retrieve the environment you are connecting to.\n",
    "\n",
    "We define a function that asks for the name of the FOLIO environment, which needs to match a section in the config file.\n",
    "\n",
    "Then, we use the name to create the header values to be used in making your API request to FOLIO."
   ]
  },
  {
   "cell_type": "code",
   "execution_count": null,
   "id": "2635b745-4f5a-4fab-ab7d-bb6cfba0b27a",
   "metadata": {},
   "outputs": [],
   "source": [
    "def singleenvironment(configNames):\n",
    "    environmentname = input(\"Which environment are we uploading reserves to? \")\n",
    "    if environmentname in configNames:\n",
    "        return environmentname\n",
    "    else:\n",
    "        sys.exit(\"can't recognize environment name!\")"
   ]
  },
  {
   "cell_type": "markdown",
   "id": "2b133978-8f4d-42e3-9df6-3c688c3acea8",
   "metadata": {
    "tags": []
   },
   "source": [
    "## Read in the environments you might be using from the config-template.ini file"
   ]
  },
  {
   "cell_type": "code",
   "execution_count": null,
   "id": "6be89bc1-bce0-4023-81d1-a17771076266",
   "metadata": {},
   "outputs": [],
   "source": [
    "envConfig = configparser.ConfigParser()\n",
    "envConfig.read('config-template.ini')"
   ]
  },
  {
   "cell_type": "code",
   "execution_count": null,
   "id": "6da637ab-2e9c-4068-8640-f73f7974b3e9",
   "metadata": {},
   "outputs": [],
   "source": [
    "uploadenvironment = singleenvironment(envConfig.sections())"
   ]
  },
  {
   "cell_type": "markdown",
   "id": "13aea00b-0b27-4c26-9b1e-77eb26332438",
   "metadata": {},
   "source": [
    "### Define the header values to be used in making your API request to FOLIO."
   ]
  },
  {
   "cell_type": "code",
   "execution_count": null,
   "id": "ca7b62a5-5817-4bf1-a08c-1f8289923876",
   "metadata": {},
   "outputs": [],
   "source": [
    "uploadurl = envConfig[uploadenvironment]['okapi_url']\n",
    "\n",
    "fetchHeaders = {\n",
    "    'x-okapi-tenant': envConfig[uploadenvironment]['tenant_id'],\n",
    "    'x-okapi-token': envConfig[uploadenvironment]['password']\n",
    "}\n",
    "postHeaders = {\n",
    "    'x-okapi-tenant': envConfig[uploadenvironment]['tenant_id'],\n",
    "    'x-okapi-token': envConfig[uploadenvironment]['password'],\n",
    "    'Content-Type': 'application/json'\n",
    "}"
   ]
  },
  {
   "cell_type": "markdown",
   "id": "c60a8d28-c708-4991-a616-e6e408366533",
   "metadata": {
    "tags": []
   },
   "source": [
    "### Create a reserve\n",
    "\n",
    "The FOLIO API to create a reserve is **POST your-okapi-url/coursereserves/reserves** with the required fields barcode and course listing.\n",
    "\n",
    "The goal is to take an input file with a list of barcodes, one on each line, and construct a JSON object for each barcode like this:\n",
    "\n",
    "{\n",
    "    \"courseListingId\": *\"yourcourselistingid\"*,\n",
    "    \"copiedItem\": {\n",
    "        \"barcode\": *\"itembarcode\"*\n",
    "        }\n",
    "}\n",
    "\n",
    "Then, you can call the API for each item until all of them are sent."
   ]
  },
  {
   "cell_type": "markdown",
   "id": "59c208fd-30f1-4da8-accb-ba59d90419d7",
   "metadata": {},
   "source": [
    "**Step 1**: Create the URL for the reserve API call."
   ]
  },
  {
   "cell_type": "code",
   "execution_count": null,
   "id": "96fbd85c-6d05-49b8-b8cf-39ea6eaf4638",
   "metadata": {},
   "outputs": [],
   "source": [
    "uploadReserveUrl = '{}{}'.format(uploadurl, \"/coursereserves/reserves\")"
   ]
  },
  {
   "cell_type": "markdown",
   "id": "d5b7ed4d-9fc4-40ae-b9a8-ed2f41d099c3",
   "metadata": {},
   "source": [
    "**Step 2**: Ask for the course listing ID."
   ]
  },
  {
   "cell_type": "code",
   "execution_count": null,
   "id": "11544ed7-5575-4122-925a-4d8e8ae8a560",
   "metadata": {},
   "outputs": [],
   "source": [
    "courseListingIdForLoad = input(\"Please provide the UUID for the course listing we are adding items to \")"
   ]
  },
  {
   "cell_type": "markdown",
   "id": "524f3f0a-0c84-47c7-8ecf-efe2f9388d6a",
   "metadata": {},
   "source": [
    "**Step 3**: Open your file of incoming barcodes."
   ]
  },
  {
   "cell_type": "code",
   "execution_count": null,
   "id": "6654e00c-902d-41f3-bdf0-2b08bd144b59",
   "metadata": {},
   "outputs": [],
   "source": [
    "initialFile = open('barcodes.csv', newline='', encoding='utf-8-sig')\n",
    "barcode_file = csv.reader(initialFile, dialect='excel')"
   ]
  },
  {
   "cell_type": "markdown",
   "id": "67b0e8fb-c517-4490-a235-9094fdeac93a",
   "metadata": {},
   "source": [
    "**Step 4**: Construct and send the data payload to FOLIO for each reserve item."
   ]
  },
  {
   "cell_type": "code",
   "execution_count": null,
   "id": "f375707e-0c20-4f1b-b286-5a683fdf7dd0",
   "metadata": {},
   "outputs": [],
   "source": [
    "for each in barcode_file:\n",
    "    payload = {}\n",
    "    copiedItem = {}\n",
    "    payload['courseListingId'] = courseListingIdForLoad\n",
    "    copiedItem['barcode'] = each[0]\n",
    "    payload['copiedItem'] = copiedItem\n",
    "    requestPayload = json.dumps(payload)\n",
    "    sendReserve = requests.post(uploadReserveUrl, headers=postHeaders, data=requestPayload)"
   ]
  }
 ],
 "metadata": {
  "kernelspec": {
   "display_name": "Python 3 (ipykernel)",
   "language": "python",
   "name": "python3"
  },
  "language_info": {
   "codemirror_mode": {
    "name": "ipython",
    "version": 3
   },
   "file_extension": ".py",
   "mimetype": "text/x-python",
   "name": "python",
   "nbconvert_exporter": "python",
   "pygments_lexer": "ipython3",
   "version": "3.9.7"
  }
 },
 "nbformat": 4,
 "nbformat_minor": 5
}
